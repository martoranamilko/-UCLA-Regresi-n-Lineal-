{
 "cells": [
  {
   "cell_type": "markdown",
   "metadata": {},
   "source": [
    "#### República Bolivariana de Venezuela\n",
    "#### Universidad Centro Occidental Lisandro Alvarado\n",
    "#### Decanato de Ciencias y Tecnología\n",
    "#### Ingeniería de Producción\n",
    "\n",
    "##### Martorana Milko G. C.I.: 24.305.350.\n",
    "\n",
    "#### Barquisimeto, Mayo, 2022."
   ]
  },
  {
   "cell_type": "markdown",
   "metadata": {},
   "source": [
    "## Diseño de Experimentos Estadisticos"
   ]
  },
  {
   "cell_type": "markdown",
   "metadata": {},
   "source": [
    "### El problema.:  Crecimiento de las platanciones"
   ]
  },
  {
   "cell_type": "markdown",
   "metadata": {},
   "source": [
    "Contamos con los siguientes 2 parametros.:"
   ]
  },
  {
   "cell_type": "markdown",
   "metadata": {},
   "source": [
    "- Luz o no.\n",
    "- Riego bajo o alto."
   ]
  },
  {
   "cell_type": "markdown",
   "metadata": {},
   "source": [
    "Entonces creo el experimento.:"
   ]
  },
  {
   "cell_type": "markdown",
   "metadata": {},
   "source": [
    "### El Objetivo.: \n",
    " - La luz -> minimizar tiempo de exposición\n",
    " - El Riego -> minimizar los costos por riego\n"
   ]
  },
  {
   "cell_type": "markdown",
   "metadata": {},
   "source": [
    "la cantidad total de experimentos será 2² = 4."
   ]
  },
  {
   "cell_type": "markdown",
   "metadata": {},
   "source": [
    "Importo las librerías a utilizar"
   ]
  },
  {
   "cell_type": "code",
   "execution_count": 147,
   "metadata": {},
   "outputs": [],
   "source": [
    "import pandas as pd\n",
    "import numpy as np\n",
    "import matplotlib.pyplot as plt\n",
    "import seaborn as sns\n",
    "import statsmodels"
   ]
  },
  {
   "cell_type": "code",
   "execution_count": 148,
   "metadata": {},
   "outputs": [],
   "source": [
    "Luz = ['On','Off']\n",
    "Agua = ['Low','High']\n",
    "# create combinations for all parameters\n",
    "experimento = [(x,y) for x in Luz for y in Agua]\n",
    "exp_df = pd.DataFrame(experimento,columns=['A','B'])"
   ]
  },
  {
   "cell_type": "markdown",
   "metadata": {},
   "source": [
    "Ahora veo las variables"
   ]
  },
  {
   "cell_type": "code",
   "execution_count": 149,
   "metadata": {},
   "outputs": [
    {
     "data": {
      "text/html": [
       "<div>\n",
       "<style scoped>\n",
       "    .dataframe tbody tr th:only-of-type {\n",
       "        vertical-align: middle;\n",
       "    }\n",
       "\n",
       "    .dataframe tbody tr th {\n",
       "        vertical-align: top;\n",
       "    }\n",
       "\n",
       "    .dataframe thead th {\n",
       "        text-align: right;\n",
       "    }\n",
       "</style>\n",
       "<table border=\"1\" class=\"dataframe\">\n",
       "  <thead>\n",
       "    <tr style=\"text-align: right;\">\n",
       "      <th></th>\n",
       "      <th>A</th>\n",
       "      <th>B</th>\n",
       "    </tr>\n",
       "  </thead>\n",
       "  <tbody>\n",
       "    <tr>\n",
       "      <th>0</th>\n",
       "      <td>On</td>\n",
       "      <td>Low</td>\n",
       "    </tr>\n",
       "    <tr>\n",
       "      <th>1</th>\n",
       "      <td>On</td>\n",
       "      <td>High</td>\n",
       "    </tr>\n",
       "    <tr>\n",
       "      <th>2</th>\n",
       "      <td>Off</td>\n",
       "      <td>Low</td>\n",
       "    </tr>\n",
       "    <tr>\n",
       "      <th>3</th>\n",
       "      <td>Off</td>\n",
       "      <td>High</td>\n",
       "    </tr>\n",
       "  </tbody>\n",
       "</table>\n",
       "</div>"
      ],
      "text/plain": [
       "     A     B\n",
       "0   On   Low\n",
       "1   On  High\n",
       "2  Off   Low\n",
       "3  Off  High"
      ]
     },
     "execution_count": 149,
     "metadata": {},
     "output_type": "execute_result"
    }
   ],
   "source": [
    "exp_df"
   ]
  },
  {
   "cell_type": "markdown",
   "metadata": {},
   "source": [
    "Idealmente, cada experimento debe ejecutarse sin la experiencia de intentos anteriores."
   ]
  },
  {
   "cell_type": "code",
   "execution_count": 150,
   "metadata": {},
   "outputs": [],
   "source": [
    "from sklearn.preprocessing import OrdinalEncoder\n",
    "from sklearn.preprocessing import OneHotEncoder\n",
    "from sklearn.compose import ColumnTransformer"
   ]
  },
  {
   "cell_type": "code",
   "execution_count": 151,
   "metadata": {},
   "outputs": [],
   "source": [
    "enc = OrdinalEncoder(categories=[['On','Off'],['Low','High']])"
   ]
  },
  {
   "cell_type": "code",
   "execution_count": 152,
   "metadata": {},
   "outputs": [
    {
     "data": {
      "text/html": [
       "<div>\n",
       "<style scoped>\n",
       "    .dataframe tbody tr th:only-of-type {\n",
       "        vertical-align: middle;\n",
       "    }\n",
       "\n",
       "    .dataframe tbody tr th {\n",
       "        vertical-align: top;\n",
       "    }\n",
       "\n",
       "    .dataframe thead th {\n",
       "        text-align: right;\n",
       "    }\n",
       "</style>\n",
       "<table border=\"1\" class=\"dataframe\">\n",
       "  <thead>\n",
       "    <tr style=\"text-align: right;\">\n",
       "      <th></th>\n",
       "      <th>A</th>\n",
       "      <th>B</th>\n",
       "      <th>exp_order</th>\n",
       "      <th>outcome</th>\n",
       "    </tr>\n",
       "  </thead>\n",
       "  <tbody>\n",
       "    <tr>\n",
       "      <th>0</th>\n",
       "      <td>0.0</td>\n",
       "      <td>0.0</td>\n",
       "      <td>3</td>\n",
       "      <td>25</td>\n",
       "    </tr>\n",
       "    <tr>\n",
       "      <th>1</th>\n",
       "      <td>0.0</td>\n",
       "      <td>1.0</td>\n",
       "      <td>0</td>\n",
       "      <td>37</td>\n",
       "    </tr>\n",
       "    <tr>\n",
       "      <th>2</th>\n",
       "      <td>1.0</td>\n",
       "      <td>0.0</td>\n",
       "      <td>2</td>\n",
       "      <td>55</td>\n",
       "    </tr>\n",
       "    <tr>\n",
       "      <th>3</th>\n",
       "      <td>1.0</td>\n",
       "      <td>1.0</td>\n",
       "      <td>1</td>\n",
       "      <td>65</td>\n",
       "    </tr>\n",
       "  </tbody>\n",
       "</table>\n",
       "</div>"
      ],
      "text/plain": [
       "     A    B  exp_order  outcome\n",
       "0  0.0  0.0          3       25\n",
       "1  0.0  1.0          0       37\n",
       "2  1.0  0.0          2       55\n",
       "3  1.0  1.0          1       65"
      ]
     },
     "execution_count": 152,
     "metadata": {},
     "output_type": "execute_result"
    }
   ],
   "source": [
    "\n",
    "encoded_df = pd.DataFrame(enc.fit_transform(exp_df[['A','B']]),columns=['A','B'])\n",
    "#define the experiments order which must be random\n",
    "encoded_df['exp_order'] = np.random.choice(np.arange(4),4,replace=False)\n",
    "encoded_df['outcome'] = [25,37,55,65]\n",
    "encoded_df"
   ]
  },
  {
   "cell_type": "markdown",
   "metadata": {},
   "source": [
    "Explorando un poco el resultado tenemos,"
   ]
  },
  {
   "cell_type": "code",
   "execution_count": 153,
   "metadata": {},
   "outputs": [
    {
     "data": {
      "image/png": "[encoded data removed]",
      "text/plain": [
       "<Figure size 432x288 with 1 Axes>"
      ]
     },
     "metadata": {
      "needs_background": "light"
     },
     "output_type": "display_data"
    }
   ],
   "source": [
    "plt.scatter(encoded_df['A'],encoded_df['B'], marker='o', s=80, c=encoded_df['outcome'], cmap='coolwarm')\n",
    "plt.xlabel('A')\n",
    "plt.ylabel('B')\n",
    "for i, txt in enumerate(encoded_df['outcome']):\n",
    "    plt.annotate(txt, (encoded_df['A'].iloc[i], encoded_df['B'].iloc[i]),xytext=(encoded_df['A'].iloc[i]*0.9, encoded_df['B'].iloc[i]*1.1), fontsize=16)"
   ]
  },
  {
   "cell_type": "markdown",
   "metadata": {},
   "source": [
    "Es claro que tener A = 1 y B = 1 nos dio los mejores resultados."
   ]
  },
  {
   "cell_type": "code",
   "execution_count": 162,
   "metadata": {},
   "outputs": [
    {
     "data": {
      "text/plain": [
       "45.5"
      ]
     },
     "execution_count": 162,
     "metadata": {},
     "output_type": "execute_result"
    }
   ],
   "source": [
    "promedio = encoded_df['outcome'].mean()\n",
    "promedio"
   ]
  },
  {
   "cell_type": "markdown",
   "metadata": {},
   "source": [
    "El resultado promedio es la media de todos los resultados: 45,5. Esta será nuestra línea de base. A continuación, debemos tener en cuenta los efectos de A y B. Para hacerlo, debemos fijar B(A) y verificar la variación en A(B) y promediar la suma de los efectos."
   ]
  },
  {
   "cell_type": "markdown",
   "metadata": {},
   "source": [
    "El efecto promedio de A es, por lo tanto, (30+28)/2 = 29. Podemos ver este resultado de otra manera: observe el gráfico a continuación."
   ]
  },
  {
   "cell_type": "code",
   "execution_count": 155,
   "metadata": {},
   "outputs": [
    {
     "data": {
      "text/plain": [
       "<AxesSubplot:xlabel='A', ylabel='outcome'>"
      ]
     },
     "execution_count": 155,
     "metadata": {},
     "output_type": "execute_result"
    },
    {
     "data": {
      "image/png": "[encoded data removed]",
      "text/plain": [
       "<Figure size 432x288 with 1 Axes>"
      ]
     },
     "metadata": {
      "needs_background": "light"
     },
     "output_type": "display_data"
    }
   ],
   "source": [
    "sns.lineplot(x='A',y='outcome',hue='B',data=encoded_df)"
   ]
  },
  {
   "cell_type": "markdown",
   "metadata": {},
   "source": [
    "Ambas lineas son paralelas. Lo que significa que no tendremos una fórmula en nuestro modelo que los reproduzca: p. un término A*B. Podemos implementar un código simple para calcular los efectos para nosotros:"
   ]
  },
  {
   "cell_type": "code",
   "execution_count": 156,
   "metadata": {},
   "outputs": [],
   "source": [
    "def Pars_effect(data = encoded_df, par='A', effect='B'):\n",
    "    data_1 = data[data[par] == data[par].min()]\n",
    "    data_2 = data[data[par] == data[par].max()]\n",
    "    \n",
    "    eff_1 = (data_1[data_1[effect] == data_1[effect].max()].outcome.max() - data_1[data_1[effect] == data_1[effect].min()].outcome.max())\n",
    "    eff_2 = (data_2[data_2[effect] == data_2[effect].max()].outcome.max() - data_2[data_2[effect] == data_2[effect].min()].outcome.max())\n",
    "    return (eff_2+eff_1)/2"
   ]
  },
  {
   "cell_type": "markdown",
   "metadata": {},
   "source": [
    "A continuación, queremos verificar si nuestros coeficientes tienen sentido o no, por lo que implementamos otra pieza de código en la que básicamente sustituimos los coeficientes en nuestra fórmula y asignamos las variables al caso de ±1. Hacemos eso porque es una práctica común usar esta codificación, pero luego veremos qué sucede si hubiéramos usado 0/1 en su lugar."
   ]
  },
  {
   "cell_type": "code",
   "execution_count": 157,
   "metadata": {},
   "outputs": [],
   "source": [
    "def predict_outcome(baseline, A, Ax, B, Bx):\n",
    "    if A == 0:\n",
    "        A = -1\n",
    "    if B == 0:\n",
    "        B = -1\n",
    "    print(f'y ~ {baseline}+1/2 {Ax}*A + 1/2 {Bx}*B')\n",
    "    pred_y = baseline + 1/2*Ax*A + 1/2*Bx*B\n",
    "    print(f'{pred_y}')\n",
    "    return pred_y"
   ]
  },
  {
   "cell_type": "markdown",
   "metadata": {},
   "source": [
    "Si probamos nuestra suposición con esta fórmula, podemos comprobar los resultados para el caso de A = 1, B = 1 y A=0, B=0."
   ]
  },
  {
   "cell_type": "code",
   "execution_count": 163,
   "metadata": {},
   "outputs": [
    {
     "name": "stdout",
     "output_type": "stream",
     "text": [
      "y ~ 45.5+1/2 29.0*A + 1/2 11.0*B\n",
      "65.5\n",
      "y ~ 45.5+1/2 29.0*A + 1/2 11.0*B\n",
      "25.5\n"
     ]
    },
    {
     "data": {
      "text/plain": [
       "45.5"
      ]
     },
     "execution_count": 163,
     "metadata": {},
     "output_type": "execute_result"
    }
   ],
   "source": [
    "Ax = Pars_effect(data = encoded_df, par='B', effect='A')\n",
    "Bx = Pars_effect(data = encoded_df, par='A', effect='B')\n",
    "y_predice_1 = predict_outcome(promedio,1,Ax,1,Bx)\n",
    "y_predice_0 = predict_outcome(promedio,0,Ax,0,Bx)\n",
    "promedio"
   ]
  },
  {
   "cell_type": "markdown",
   "metadata": {},
   "source": [
    "Asi obtenemos una formula que puede estimar el resultado de nuestro experimento. Ahora verifiquemos."
   ]
  },
  {
   "cell_type": "code",
   "execution_count": 164,
   "metadata": {},
   "outputs": [],
   "source": [
    "import statsmodels.api as sm\n",
    "import statsmodels.formula.api as smf"
   ]
  },
  {
   "cell_type": "code",
   "execution_count": 160,
   "metadata": {},
   "outputs": [],
   "source": [
    "results = smf.ols('outcome ~ A + B', data=encoded_df).fit()"
   ]
  },
  {
   "cell_type": "code",
   "execution_count": 165,
   "metadata": {},
   "outputs": [
    {
     "name": "stdout",
     "output_type": "stream",
     "text": [
      "                            OLS Regression Results                            \n",
      "==============================================================================\n",
      "Dep. Variable:                outcome   R-squared:                       0.999\n",
      "Model:                            OLS   Adj. R-squared:                  0.997\n",
      "Method:                 Least Squares   F-statistic:                     481.0\n",
      "Date:                Mon, 09 May 2022   Prob (F-statistic):             0.0322\n",
      "Time:                        02:47:32   Log-Likelihood:                -2.9032\n",
      "No. Observations:                   4   AIC:                             11.81\n",
      "Df Residuals:                       1   BIC:                             9.965\n",
      "Df Model:                           2                                         \n",
      "Covariance Type:            nonrobust                                         \n",
      "==============================================================================\n",
      "                 coef    std err          t      P>|t|      [0.025      0.975]\n",
      "------------------------------------------------------------------------------\n",
      "Intercept     25.5000      0.866     29.445      0.022      14.496      36.504\n",
      "A             29.0000      1.000     29.000      0.022      16.294      41.706\n",
      "B             11.0000      1.000     11.000      0.058      -1.706      23.706\n",
      "==============================================================================\n",
      "Omnibus:                          nan   Durbin-Watson:                   2.000\n",
      "Prob(Omnibus):                    nan   Jarque-Bera (JB):                0.667\n",
      "Skew:                           0.000   Prob(JB):                        0.717\n",
      "Kurtosis:                       1.000   Cond. No.                         3.19\n",
      "==============================================================================\n",
      "\n",
      "Notes:\n",
      "[1] Standard Errors assume that the covariance matrix of the errors is correctly specified.\n"
     ]
    },
    {
     "name": "stderr",
     "output_type": "stream",
     "text": [
      "/Users/milkomartorana/micromamba/lib/python3.9/site-packages/statsmodels/stats/stattools.py:74: ValueWarning: omni_normtest is not valid with less than 8 observations; 4 samples were given.\n",
      "  warn(\"omni_normtest is not valid with less than 8 observations; %i \"\n"
     ]
    }
   ],
   "source": [
    "print(results.summary())"
   ]
  },
  {
   "cell_type": "markdown",
   "metadata": {},
   "source": [
    "La intercepción es básicamente la mitad del que calculamos mientras que los coeficientes para A y B se duplican. Esto se debe a que en el mapeo ±1 la diferencia entre los dos niveles es 2 mientras que en el mapeo original la diferencia es 1."
   ]
  },
  {
   "cell_type": "markdown",
   "metadata": {},
   "source": [
    "### Conclusión"
   ]
  },
  {
   "cell_type": "markdown",
   "metadata": {},
   "source": [
    "Observamos como planificar un experimento y cómo interpretar los resultados. También vimos cómo descubrir el efecto de las interacciones entre nuestras variables y cómo lidiar con el sobreajuste. Los datos siempre serán la mejor solución, pero en lugar de realizar experimentos aleatorios obtuvimos el marco de donde el cual decidimos como realizarlo."
   ]
  }
 ],
 "metadata": {
  "interpreter": {
   "hash": "2bac4c1f3a24463c6a77032a6d62a84c0a0ad30a2ba2915f796e5a1ef75fb3df"
  },
  "kernelspec": {
   "display_name": "Python 3.9.12 ('base')",
   "language": "python",
   "name": "python3"
  },
  "language_info": {
   "codemirror_mode": {
    "name": "ipython",
    "version": 3
   },
   "file_extension": ".py",
   "mimetype": "text/x-python",
   "name": "python",
   "nbconvert_exporter": "python",
   "pygments_lexer": "ipython3",
   "version": "3.9.12"
  },
  "orig_nbformat": 4
 },
 "nbformat": 4,
 "nbformat_minor": 2
}
